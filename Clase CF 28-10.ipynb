{
 "cells": [
  {
   "cell_type": "markdown",
   "id": "31779f70",
   "metadata": {},
   "source": [
    "# Interpolación de lagrange"
   ]
  },
  {
   "cell_type": "code",
   "execution_count": 10,
   "id": "dbfb109a",
   "metadata": {},
   "outputs": [],
   "source": [
    "import numpy as np\n",
    "import matplotlib.pyplot as plt"
   ]
  },
  {
   "cell_type": "code",
   "execution_count": 55,
   "id": "d114b35b",
   "metadata": {},
   "outputs": [],
   "source": [
    "xmin, xmax = 1,9\n",
    "N= 10"
   ]
  },
  {
   "cell_type": "code",
   "execution_count": 78,
   "id": "a8aca3b1",
   "metadata": {},
   "outputs": [],
   "source": [
    "#xi = np.linspace (xmin, xmax, N)\n",
    "xi= 0.5*(xmax+xmin)+0.5*(xmax-xmin)*np.cos(np.pi*(np.arange(N)+0.5)/N) #chebyshev \n",
    "yi = np.random.rand(N)"
   ]
  },
  {
   "cell_type": "code",
   "execution_count": 79,
   "id": "61087b75",
   "metadata": {},
   "outputs": [],
   "source": [
    "def f(x):\n",
    "    pol = 0.0\n",
    "    for i in range(N):\n",
    "        Li = yi[i]\n",
    "        for j in range (N):\n",
    "            if j != i:\n",
    "                Li = Li* (x-xi[j])/ (xi[i]- xi[j])\n",
    "\n",
    "        pol = pol + Li\n",
    "    \n",
    "    return pol"
   ]
  },
  {
   "cell_type": "code",
   "execution_count": 58,
   "id": "853c7ee4",
   "metadata": {},
   "outputs": [
    {
     "data": {
      "text/plain": [
       "<function __main__.f(x)>"
      ]
     },
     "execution_count": 58,
     "metadata": {},
     "output_type": "execute_result"
    }
   ],
   "source": [
    "f"
   ]
  },
  {
   "cell_type": "code",
   "execution_count": 59,
   "id": "c7c761bc",
   "metadata": {},
   "outputs": [
    {
     "data": {
      "text/plain": [
       "0.6331506190867263"
      ]
     },
     "execution_count": 59,
     "metadata": {},
     "output_type": "execute_result"
    }
   ],
   "source": [
    "f(2.0)"
   ]
  },
  {
   "cell_type": "code",
   "execution_count": 76,
   "id": "e6ec2277",
   "metadata": {},
   "outputs": [
    {
     "data": {
      "text/plain": [
       "<matplotlib.collections.PathCollection at 0x7fccc9118670>"
      ]
     },
     "execution_count": 76,
     "metadata": {},
     "output_type": "execute_result"
    },
    {
     "data": {
      "image/png": "[encoded data removed]",
      "text/plain": [
       "<Figure size 432x288 with 1 Axes>"
      ]
     },
     "metadata": {
      "needs_background": "light"
     },
     "output_type": "display_data"
    }
   ],
   "source": [
    "plt.scatter(xi,yi , color=\"m\")"
   ]
  },
  {
   "cell_type": "code",
   "execution_count": 80,
   "id": "1897e081",
   "metadata": {},
   "outputs": [],
   "source": [
    "x = np.linspace(xmin,xmax ,100)\n",
    "y = f(x)"
   ]
  },
  {
   "cell_type": "code",
   "execution_count": 81,
   "id": "05d94903",
   "metadata": {},
   "outputs": [
    {
     "data": {
      "text/plain": [
       "<matplotlib.collections.PathCollection at 0x7fccc8e7bfd0>"
      ]
     },
     "execution_count": 81,
     "metadata": {},
     "output_type": "execute_result"
    },
    {
     "data": {
      "image/png": "[encoded data removed]",
      "text/plain": [
       "<Figure size 432x288 with 2 Axes>"
      ]
     },
     "metadata": {
      "needs_background": "light"
     },
     "output_type": "display_data"
    }
   ],
   "source": [
    "fig,ax = plt.subplots(1,2)\n",
    "ax[0].scatter(xi,yi , color=\"pink\") #nodos\n",
    "ax[0].plot(x,y) #interpolación\n",
    "\n",
    "ax[1].scatter(xi,yi) #interpolación"
   ]
  },
  {
   "cell_type": "markdown",
   "id": "3cd75dd6",
   "metadata": {},
   "source": [
    "# LAB"
   ]
  },
  {
   "cell_type": "code",
   "execution_count": 93,
   "id": "6a1e060d",
   "metadata": {},
   "outputs": [],
   "source": [
    "datos= np.genfromtxt('data-manchas.txt',skip_header=119,skip_footer=1)"
   ]
  },
  {
   "cell_type": "code",
   "execution_count": null,
   "id": "6f006937",
   "metadata": {},
   "outputs": [],
   "source": [
    "xi="
   ]
  }
 ],
 "metadata": {
  "kernelspec": {
   "display_name": "Python 3 (ipykernel)",
   "language": "python",
   "name": "python3"
  },
  "language_info": {
   "codemirror_mode": {
    "name": "ipython",
    "version": 3
   },
   "file_extension": ".py",
   "mimetype": "text/x-python",
   "name": "python",
   "nbconvert_exporter": "python",
   "pygments_lexer": "ipython3",
   "version": "3.10.7"
  }
 },
 "nbformat": 4,
 "nbformat_minor": 5
}
