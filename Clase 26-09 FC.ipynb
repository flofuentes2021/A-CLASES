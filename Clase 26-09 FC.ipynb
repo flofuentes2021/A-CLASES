{
 "cells": [
  {
   "cell_type": "markdown",
   "id": "ada94f48",
   "metadata": {},
   "source": [
    "# Programación orientada a objetos"
   ]
  },
  {
   "cell_type": "code",
   "execution_count": 26,
   "id": "19792a4b",
   "metadata": {},
   "outputs": [],
   "source": [
    "import numpy as np"
   ]
  },
  {
   "cell_type": "code",
   "execution_count": 39,
   "id": "1d095830",
   "metadata": {},
   "outputs": [],
   "source": [
    "class Complejo:\n",
    "    def  __init__(self, x, y):\n",
    "        self.real = x\n",
    "        self.imag = y\n",
    "    \n",
    "    def __add__(self, otro):\n",
    "        real = self.real + otro.real\n",
    "        imag = self.imag + otro.imag\n",
    "        \n",
    "        return Complejo(real, imag)\n",
    "    def __sub__(self, otro):\n",
    "        re = self.real - otro.real\n",
    "        ima = self.imag - otro.imag\n",
    "        \n",
    "        return Complejo(re, ima)\n",
    "    def __mul__(self, otro):\n",
    "        x = self.real* otro.real - self.imag * otro.imag\n",
    "        y = self.real* otro.imag + self.imag * otro.real\n",
    "        \n",
    "        return Complejo(x, y)\n",
    "        \n",
    "    def __repr__(self):\n",
    "        texto = f\"{self.real} + i*{self.imag}\" #f significa formato no flopi :c\n",
    "        return texto\n",
    "    \n",
    "    def fase(self, grados = False ):\n",
    "        ang=np.arctan2(self.imag , self.real)\n",
    "        \n",
    "        if grados :\n",
    "            return ang * 180 / np.pi\n",
    "        return ang"
   ]
  },
  {
   "cell_type": "code",
   "execution_count": 40,
   "id": "c2f904a4",
   "metadata": {},
   "outputs": [
    {
     "data": {
      "text/plain": [
       "1 + i*5"
      ]
     },
     "execution_count": 40,
     "metadata": {},
     "output_type": "execute_result"
    }
   ],
   "source": [
    "z = Complejo(2, 3)\n",
    "#z.real    \n",
    "q = Complejo(-1, 2)\n",
    "\n",
    "z+q"
   ]
  },
  {
   "cell_type": "code",
   "execution_count": 41,
   "id": "d6e4c115",
   "metadata": {},
   "outputs": [],
   "source": [
    "a = z + q"
   ]
  },
  {
   "cell_type": "code",
   "execution_count": 42,
   "id": "84bf7bcc",
   "metadata": {},
   "outputs": [
    {
     "data": {
      "text/plain": [
       "1"
      ]
     },
     "execution_count": 42,
     "metadata": {},
     "output_type": "execute_result"
    }
   ],
   "source": [
    "a.real"
   ]
  },
  {
   "cell_type": "code",
   "execution_count": 43,
   "id": "5d1c9d18",
   "metadata": {},
   "outputs": [
    {
     "data": {
      "text/plain": [
       "5"
      ]
     },
     "execution_count": 43,
     "metadata": {},
     "output_type": "execute_result"
    }
   ],
   "source": [
    "a.imag"
   ]
  },
  {
   "cell_type": "code",
   "execution_count": 44,
   "id": "eab01756",
   "metadata": {},
   "outputs": [
    {
     "name": "stdout",
     "output_type": "stream",
     "text": [
      "1 + i*5\n"
     ]
    }
   ],
   "source": [
    "print(a)"
   ]
  },
  {
   "cell_type": "code",
   "execution_count": 45,
   "id": "04a4dbf6",
   "metadata": {},
   "outputs": [
    {
     "name": "stdout",
     "output_type": "stream",
     "text": [
      "-8 + i*1\n"
     ]
    }
   ],
   "source": [
    "print(z*q)"
   ]
  },
  {
   "cell_type": "code",
   "execution_count": 46,
   "id": "df439f71",
   "metadata": {},
   "outputs": [
    {
     "name": "stdout",
     "output_type": "stream",
     "text": [
      "2.0344439357957027\n",
      "116.56505117707799\n"
     ]
    }
   ],
   "source": [
    "print(q.fase())\n",
    "print(q.fase(grados=True))"
   ]
  },
  {
   "cell_type": "code",
   "execution_count": null,
   "id": "c481ac9f",
   "metadata": {},
   "outputs": [],
   "source": []
  }
 ],
 "metadata": {
  "kernelspec": {
   "display_name": "Python 3 (ipykernel)",
   "language": "python",
   "name": "python3"
  },
  "language_info": {
   "codemirror_mode": {
    "name": "ipython",
    "version": 3
   },
   "file_extension": ".py",
   "mimetype": "text/x-python",
   "name": "python",
   "nbconvert_exporter": "python",
   "pygments_lexer": "ipython3",
   "version": "3.10.7"
  }
 },
 "nbformat": 4,
 "nbformat_minor": 5
}
