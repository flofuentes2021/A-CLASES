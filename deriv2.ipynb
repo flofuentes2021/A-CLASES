{
 "cells": [
  {
   "cell_type": "code",
   "execution_count": 15,
   "id": "f5cf696f",
   "metadata": {},
   "outputs": [
    {
     "name": "stdout",
     "output_type": "stream",
     "text": [
      "[1.08616127]\n"
     ]
    }
   ],
   "source": [
    "import numpy as np\n",
    "\n",
    "x = 0  #punto donde se evalúa la derivada\n",
    "f = np.exp(x) #función a derivar \n",
    "h = np.geomspace(1,100,1) #un valor o lista de valores que puede tomar h\n",
    "\n",
    "def deriv2(f,x,h):\n",
    "    return (f(x+h)-2*f(x)+f(x-h))/h**2 \n",
    "\n",
    "deriv2 = (np.exp(x+h)-2*(np.exp(x))+np.exp(x-h))/h**2\n",
    "print(deriv2)"
   ]
  },
  {
   "cell_type": "code",
   "execution_count": null,
   "id": "732509c9",
   "metadata": {},
   "outputs": [],
   "source": []
  }
 ],
 "metadata": {
  "kernelspec": {
   "display_name": "Python 3 (ipykernel)",
   "language": "python",
   "name": "python3"
  },
  "language_info": {
   "codemirror_mode": {
    "name": "ipython",
    "version": 3
   },
   "file_extension": ".py",
   "mimetype": "text/x-python",
   "name": "python",
   "nbconvert_exporter": "python",
   "pygments_lexer": "ipython3",
   "version": "3.10.4"
  }
 },
 "nbformat": 4,
 "nbformat_minor": 5
}
