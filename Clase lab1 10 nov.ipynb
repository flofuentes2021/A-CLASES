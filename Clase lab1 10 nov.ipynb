{
 "cells": [
  {
   "cell_type": "markdown",
   "id": "f0cb6fac",
   "metadata": {},
   "source": [
    "# método mínimos cuadrados ponderado"
   ]
  },
  {
   "cell_type": "code",
   "execution_count": 2,
   "id": "bf2ff8a4",
   "metadata": {},
   "outputs": [],
   "source": [
    "import numpy as np\n",
    "import matplotlib.pyplot as plt\n",
    "plt.style.use(\"bhm\")"
   ]
  },
  {
   "cell_type": "code",
   "execution_count": 4,
   "id": "4f645f3b",
   "metadata": {},
   "outputs": [],
   "source": [
    "datos= np.genfromtxt(\"ej-ajuste-04.txt\")\n",
    "x= datos[:,0]\n",
    "y= datos[:,1]\n",
    "dy= datos[:,2]"
   ]
  },
  {
   "cell_type": "code",
   "execution_count": 5,
   "id": "94272010",
   "metadata": {},
   "outputs": [
    {
     "data": {
      "text/plain": [
       "<ErrorbarContainer object of 3 artists>"
      ]
     },
     "execution_count": 5,
     "metadata": {},
     "output_type": "execute_result"
    },
    {
     "data": {
      "image/png": "[encoded data removed]",
      "text/plain": [
       "<Figure size 432x288 with 1 Axes>"
      ]
     },
     "metadata": {
      "needs_background": "light"
     },
     "output_type": "display_data"
    }
   ],
   "source": [
    "plt.errorbar(x,y,dy, fmt=\"o\")"
   ]
  },
  {
   "cell_type": "code",
   "execution_count": 6,
   "id": "1bb8b172",
   "metadata": {},
   "outputs": [],
   "source": [
    "p = 1/(dy**2)"
   ]
  },
  {
   "cell_type": "code",
   "execution_count": 9,
   "id": "0a0883cb",
   "metadata": {},
   "outputs": [
    {
     "data": {
      "text/plain": [
       "array([0.45713123, 2.34204248])"
      ]
     },
     "execution_count": 9,
     "metadata": {},
     "output_type": "execute_result"
    }
   ],
   "source": [
    "np.polyfit(x,y,1,w=1/dy) #w != p"
   ]
  },
  {
   "cell_type": "code",
   "execution_count": 10,
   "id": "d9219594",
   "metadata": {},
   "outputs": [],
   "source": [
    "from scipy.stats import linregress"
   ]
  },
  {
   "cell_type": "code",
   "execution_count": 11,
   "id": "2575303c",
   "metadata": {},
   "outputs": [],
   "source": [
    "from scipy.optimize import curve_fit"
   ]
  },
  {
   "cell_type": "code",
   "execution_count": 13,
   "id": "2829b967",
   "metadata": {},
   "outputs": [],
   "source": [
    "def f(x,a,b):\n",
    "    return a+b*np.log(x)"
   ]
  },
  {
   "cell_type": "code",
   "execution_count": 16,
   "id": "549f77bd",
   "metadata": {},
   "outputs": [],
   "source": [
    "a_cf, b_cf = curve_fit(f,x,y, sigma=dy)[0]"
   ]
  },
  {
   "cell_type": "code",
   "execution_count": 19,
   "id": "424aa8e4",
   "metadata": {},
   "outputs": [
    {
     "data": {
      "text/plain": [
       "Text(0, 0.5, '$y$')"
      ]
     },
     "execution_count": 19,
     "metadata": {},
     "output_type": "execute_result"
    },
    {
     "data": {
      "image/png": "[encoded data removed]",
      "text/plain": [
       "<Figure size 432x288 with 1 Axes>"
      ]
     },
     "metadata": {
      "needs_background": "light"
     },
     "output_type": "display_data"
    }
   ],
   "source": [
    "plt.errorbar(x,y, yerr=dy , fmt=\"o\", color=\"c\")\n",
    "xx= np.linspace(1,6,100)\n",
    "plt.plot(xx,f(xx, a_cf , b_cf), label= \"MMC ponderado\",color=\"m\")\n",
    "plt.legend()\n",
    "plt.xlim(0,7)\n",
    "plt.ylim(0,7)\n",
    "plt.grid(True)\n",
    "plt.xlabel(\"$x$\")\n",
    "plt.ylabel(\"$y$\")"
   ]
  },
  {
   "cell_type": "code",
   "execution_count": 21,
   "id": "bab96483",
   "metadata": {},
   "outputs": [],
   "source": [
    "from scipy.optimize import leastsq\n",
    "#minimiza la suma de la funcion q uno le de al cuadrado"
   ]
  },
  {
   "cell_type": "code",
   "execution_count": 23,
   "id": "0cc5e7fa",
   "metadata": {},
   "outputs": [],
   "source": [
    "def respon(a,x,y,dy):\n",
    "    return (y-a[0]-a[1]*x)/dy\n",
    "#se eleva sola al cuadrado"
   ]
  },
  {
   "cell_type": "code",
   "execution_count": 27,
   "id": "f4d2171c",
   "metadata": {},
   "outputs": [],
   "source": [
    "a_in=[1,1]\n",
    "a_ls= leastsq(respon,a_in,args=(x,y,dy))[0]"
   ]
  },
  {
   "cell_type": "code",
   "execution_count": 30,
   "id": "d6b4327d",
   "metadata": {},
   "outputs": [
    {
     "data": {
      "text/plain": [
       "Text(0, 0.5, '$(y-f(x))/ \\\\Delta y$')"
      ]
     },
     "execution_count": 30,
     "metadata": {},
     "output_type": "execute_result"
    },
    {
     "data": {
      "image/png": "[encoded data removed]",
      "text/plain": [
       "<Figure size 432x288 with 1 Axes>"
      ]
     },
     "metadata": {
      "needs_background": "light"
     },
     "output_type": "display_data"
    }
   ],
   "source": [
    "#Analisis de residuos ponderados !!!\n",
    "plt.scatter(x,respon(a_ls,x,y,dy))\n",
    "plt.ylabel(\"$(y-f(x))/ \\Delta y$\")"
   ]
  },
  {
   "cell_type": "code",
   "execution_count": null,
   "id": "884be5cc",
   "metadata": {},
   "outputs": [],
   "source": []
  }
 ],
 "metadata": {
  "kernelspec": {
   "display_name": "Python 3 (ipykernel)",
   "language": "python",
   "name": "python3"
  },
  "language_info": {
   "codemirror_mode": {
    "name": "ipython",
    "version": 3
   },
   "file_extension": ".py",
   "mimetype": "text/x-python",
   "name": "python",
   "nbconvert_exporter": "python",
   "pygments_lexer": "ipython3",
   "version": "3.9.12"
  }
 },
 "nbformat": 4,
 "nbformat_minor": 5
}
