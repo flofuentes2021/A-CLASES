{
 "cells": [
  {
   "cell_type": "markdown",
   "id": "03a1c158",
   "metadata": {},
   "source": [
    "# Laboratorio 1  Tarea 1"
   ]
  },
  {
   "cell_type": "markdown",
   "id": "6cd80103",
   "metadata": {},
   "source": [
    "## Florencia Fuentes | Cs. Físicas"
   ]
  },
  {
   "cell_type": "markdown",
   "id": "59edc9c7",
   "metadata": {},
   "source": [
    "# 1)"
   ]
  },
  {
   "cell_type": "markdown",
   "id": "5c8682a6",
   "metadata": {},
   "source": [
    "$a)$ La medida que nos dio el grosor del cable fue de $0,3 [\\text{cm}]$ y tenemos que con su error experimental el cual es la mitad de la sensibilidad del instrumento   nos da que el grosor es $ 0.30 \\pm 0,05 [\\text{cm}] $ ,tenemos que el error absoluto se aproxima al error experimental, luego el error relativo es igual al absoluto dividido por la medición y todo eso multiplicado por 100 , en este caso es un $16,7 \\% $.\n",
    "\n",
    "La medida que nos dio el largo del cable fue $99,8 [\\text{cm}]$ ,luego tenemos que con su error experimental el cual es la mitad de la sensibilidad del instrumento nos da que el largo es $ 99,80 \\pm 0,05 [\\text{cm}] $ , tenemos que el error absoluto se aproxima al error experimental, luego el error relativo es igual al absoluto dividido por la medición y todo eso multiplicado por $100$ , en este caso es un $0,05\\% $."
   ]
  },
  {
   "cell_type": "markdown",
   "id": "b565d443",
   "metadata": {},
   "source": [
    "$b)$ De los errores relativos obtenidos anteriormente podemos concluir que a mayor longitud del dato el este error va a ser menor ya que como la sensibilidad es la misma para ambas situaciones, luego lo único que influenciaría esta disminución en el error relativo sería el aumento en la magnitud del dato. "
   ]
  },
  {
   "cell_type": "markdown",
   "id": "aee54609",
   "metadata": {},
   "source": [
    "$c)$ El voltaje con su error experimental y relativo en las distintas escalas de voltaje estan representadas en la tabla referencial, cabe\n",
    "notar que para el error relativo estamos tomando el valor de voltaje estandar para una pila , el cual es de $1,5 [\\text{V}]$"
   ]
  },
  {
   "cell_type": "markdown",
   "id": "b00dc07f",
   "metadata": {},
   "source": [
    " ### Tabla referecial\n",
    "\n",
    "| Escala de voltaje | Medida |Medida + Error | Error relativo ($\\varepsilon_r$ )|\n",
    "| --- | --- | --- |---|                     \n",
    "| 2 V | 1,518 V| 1,518O $\\pm$ 0,0005 V |1,19 %|\n",
    "| 20 V| 1,51 V| 1,510 $\\pm$  0,005 V|0,66 %|\n",
    "| 200 V | 1,4 V| 1,40 $\\pm$ 0,05 V|7,4 %|\n",
    "| 1000 V| 1 V| 1 $\\pm$ 0,5 V|50 %|"
   ]
  },
  {
   "cell_type": "markdown",
   "id": "18de6663",
   "metadata": {},
   "source": [
    "$d)$ Del gráfico anterior vemos que el menor porcentaje de error relativo es el de la escala de $ 20 [\\text{V}]$ luego esta es la escala más edecuada de usar."
   ]
  },
  {
   "cell_type": "markdown",
   "id": "c031977b",
   "metadata": {},
   "source": [
    "# 2)"
   ]
  },
  {
   "cell_type": "markdown",
   "id": "f20c6468",
   "metadata": {},
   "source": [
    "$a)$ Dado a que todas las sifras son significativas, el error asociado al tiempo t es igual a $ 0,25 [\\text{s}]$ y al  Voltaje es de $ 0,0005 [\\text{V}]$."
   ]
  },
  {
   "cell_type": "markdown",
   "id": "594a34c3",
   "metadata": {},
   "source": [
    "$b)$ -----------------------------------------------------------------------------------------------------------------------"
   ]
  },
  {
   "cell_type": "markdown",
   "id": "a761cd7b",
   "metadata": {},
   "source": [
    "$c)$ Del gráfico anterior podemos estimar que a tiempos muy grandes la diferrencia de potencial tiende a  $ 5.4 \\text{V} $"
   ]
  },
  {
   "cell_type": "markdown",
   "id": "3a938dec",
   "metadata": {},
   "source": [
    "$d)$ Los gráficos de los valores de $\\frac{V_\\infty - V}{V_\\infty} $ versus t son:"
   ]
  },
  {
   "cell_type": "code",
   "execution_count": 12,
   "id": "f474031c",
   "metadata": {},
   "outputs": [
    {
     "data": {
      "image/png": "[encoded data removed]",
      "text/plain": [
       "<Figure size 1152x288 with 4 Axes>"
      ]
     },
     "metadata": {
      "needs_background": "light"
     },
     "output_type": "display_data"
    }
   ],
   "source": [
    "import numpy as np\n",
    "import matplotlib.pyplot as plt\n",
    "\n",
    "# para el eje Y:\n",
    "\n",
    "#Tenemos que el voltaje para tiempos muy grandes es igual a\n",
    "V_inf = 5.4 \n",
    "# En los tiempos definidos en la tabla el voltaje toma estas medidas\n",
    "V = np.array([0.000, 2.718, 4.068, 4.739, 4.739, 5.237, 5.319, 5.360, 5.380, 5.390, 5.395, 5.398]) \n",
    "#con su error experimental igual a\n",
    "V_er= 12*[0.0005] \n",
    " # llamaremos V_f al voltaje que llegaremos después de aplicarle la funcion del enunciado.\n",
    "V_f = (V_inf-V)/V_inf \n",
    "#Calculamos su propagación de error \n",
    "V_fer = ((V+V_inf)/(V_inf**2))*0.0005\n",
    "\n",
    "#Para el eje x:\n",
    "\n",
    "#tenemos que el tiempo va variando de\n",
    "t = np.linspace(0, 5.5, 12) \n",
    "# con su error experimental asociado\n",
    "t_er = 12*[0.25] \n",
    "\n",
    "fig, (ax1, ax2, ax3, ax4) = plt.                                                                                                                               subplots(nrows=1, ncols=4, figsize=(16,4), constrained_layout=True)\n",
    "\n",
    "ax1.errorbar(t, V_f, V_fer, t_er, marker='o', markersize=6, capsize=6, color=\"pink\")\n",
    "ax1.set_ylabel('Voltaje $[V]$')\n",
    "ax1.set_xlabel('Tiempo $[s]$')\n",
    "\n",
    "ax2.errorbar(t, V_f, V_fer, t_er, marker='o', markersize=6, capsize=6,color=\"pink\" )\n",
    "ax2.semilogx()\n",
    "ax2.set_ylabel('Voltaje $[V]$')\n",
    "ax2.set_xlabel('Tiempo $[s]$')\n",
    "\n",
    "ax3.errorbar(t, V_f, V_fer, t_er, marker='o', markersize=6, capsize=6,color=\"pink\")\n",
    "ax3.semilogy()\n",
    "ax3.set_ylabel('Voltaje $[V]$')\n",
    "ax3.set_xlabel('Tiempo $[s]$')\n",
    "\n",
    "ax4.errorbar(t, V_f, V_fer, t_er, marker='o', markersize=6, capsize=6,color=\"pink\")\n",
    "ax4.loglog()\n",
    "ax4.set_ylabel('Voltaje $[V]$')\n",
    "ax4.set_xlabel('Tiempo $[s]$')\n",
    "\n",
    "plt.show()\n",
    "\n"
   ]
  },
  {
   "cell_type": "markdown",
   "id": "fc31dfac",
   "metadata": {},
   "source": [
    "$e)$ El gráfico de los valores de $ln (\\frac{V_\\infty - V}{V_\\infty}) $ versus t son:"
   ]
  },
  {
   "cell_type": "code",
   "execution_count": 11,
   "id": "6c8e0065",
   "metadata": {},
   "outputs": [
    {
     "data": {
      "image/png": "[encoded data removed]",
      "text/plain": [
       "<Figure size 432x432 with 1 Axes>"
      ]
     },
     "metadata": {
      "needs_background": "light"
     },
     "output_type": "display_data"
    }
   ],
   "source": [
    "import numpy as np\n",
    "import matplotlib.pyplot as plt\n",
    "\n",
    "# para el eje Y:\n",
    "\n",
    "#Tenemos que el voltaje para tiempos muy grandes es igual a\n",
    "V_inf = 5.4\n",
    "# En los tiempos definidos en la tabla el voltaje toma estas medidas\n",
    "V = np.array([0.000, 2.718, 4.068, 4.739, 4.739, 5.237, 5.319, 5.360, 5.380, 5.390, 5.395, 5.398])\n",
    "#con su error experimental igual a\n",
    "V_er = 12*[0.0005]\n",
    "\n",
    "# llamaremos V_u al voltaje que llegaremos después de aplicarle la funcion del enunciado\n",
    "V_u = np.log((V_inf-V)/V_inf)\n",
    "#Calculamos su propagación de error \n",
    "\n",
    "V_uer = ((V_inf+V)/(((V_inf)**2)-(V_inf*V)))*0.0005\n",
    "\n",
    "#Para el eje x:\n",
    "\n",
    "#tenemos que el tiempo va variando de\n",
    "t = np.linspace(0, 5.5, 12)\n",
    "# con su error experimental asociado\n",
    "t_er = 12*[0.25]\n",
    "\n",
    "plt.figure(figsize=(6,6))\n",
    "plt.errorbar(t, V_u, V_uer, t_er, marker='o', markersize=4, capsize=4, color=\"pink\" )\n",
    "plt.xlabel('Tiempo $[s]$')\n",
    "plt.ylabel('Voltaje $[V]$')\n",
    "plt.show()\n",
    "\n"
   ]
  }
 ],
 "metadata": {
  "kernelspec": {
   "display_name": "Python 3 (ipykernel)",
   "language": "python",
   "name": "python3"
  },
  "language_info": {
   "codemirror_mode": {
    "name": "ipython",
    "version": 3
   },
   "file_extension": ".py",
   "mimetype": "text/x-python",
   "name": "python",
   "nbconvert_exporter": "python",
   "pygments_lexer": "ipython3",
   "version": "3.10.4"
  }
 },
 "nbformat": 4,
 "nbformat_minor": 5
}
