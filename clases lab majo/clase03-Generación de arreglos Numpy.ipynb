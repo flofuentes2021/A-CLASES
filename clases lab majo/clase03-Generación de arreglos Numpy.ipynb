{
 "cells": [
  {
   "cell_type": "code",
   "execution_count": 1,
   "metadata": {},
   "outputs": [],
   "source": [
    "import numpy as np"
   ]
  },
  {
   "cell_type": "code",
   "execution_count": 2,
   "metadata": {},
   "outputs": [
    {
     "name": "stdout",
     "output_type": "stream",
     "text": [
      "<class 'numpy.ndarray'>\n"
     ]
    }
   ],
   "source": [
    "lista = [1,2,3,4]\n",
    "x = np.array(lista)\n",
    "print(type(x))"
   ]
  },
  {
   "cell_type": "code",
   "execution_count": 3,
   "metadata": {},
   "outputs": [
    {
     "name": "stdout",
     "output_type": "stream",
     "text": [
      "[1 2 3 4] [1, 2, 3, 4]\n"
     ]
    }
   ],
   "source": [
    "print(x,lista)\n",
    "#los arreglos tienen como una forma de matriz de n dimensiones\n",
    "#en cambio las listas son tratados como vectores"
   ]
  },
  {
   "cell_type": "code",
   "execution_count": 4,
   "metadata": {},
   "outputs": [
    {
     "name": "stdout",
     "output_type": "stream",
     "text": [
      "[ 3  6  9 12] [1, 2, 3, 4, 1, 2, 3, 4, 1, 2, 3, 4]\n"
     ]
    }
   ],
   "source": [
    "print(3*x,3*lista)\n",
    "#arreglo multiplica por 3 y la lista la repite 3 veces\n",
    "#para los arreglos pasa con cualquier tipo de operación que se le realice\n",
    "#ya sea multiplicación, división, suma, etc"
   ]
  },
  {
   "cell_type": "code",
   "execution_count": 6,
   "metadata": {},
   "outputs": [
    {
     "name": "stdout",
     "output_type": "stream",
     "text": [
      "[ 0.84147098  0.90929743  0.14112001 -0.7568025 ]\n"
     ]
    }
   ],
   "source": [
    "print(np.sin(x))"
   ]
  },
  {
   "cell_type": "code",
   "execution_count": 7,
   "metadata": {},
   "outputs": [
    {
     "name": "stdout",
     "output_type": "stream",
     "text": [
      "[10 12 14 16 18 20 22 24 26 28 30 32 34 36 38 40 42 44 46 48 50 52 54 56 58\n",
      " 60 62 64 66 68 70 72 74 76 78 80 82 84 86 88 90 92 94 96 98]\n",
      "<class 'numpy.ndarray'>\n"
     ]
    }
   ],
   "source": [
    "x = np.arange(10,100,2)\n",
    "print(x)\n",
    "print(type(x))\n",
    "#función que se parece al range de python en este caso nos presenta el de numpy\n",
    "#el 100 no es incluido (desde,hasta,paso)\n",
    "#los pasos también pueden ser negativos, pero las cotas tienen que invertirse"
   ]
  },
  {
   "cell_type": "code",
   "execution_count": 10,
   "metadata": {},
   "outputs": [
    {
     "name": "stdout",
     "output_type": "stream",
     "text": [
      "[  0.           0.1010101    0.2020202    0.3030303    0.4040404\n",
      "   0.50505051   0.60606061   0.70707071   0.80808081   0.90909091\n",
      "   1.01010101   1.11111111   1.21212121   1.31313131   1.41414141\n",
      "   1.51515152   1.61616162   1.71717172   1.81818182   1.91919192\n",
      "   2.02020202   2.12121212   2.22222222   2.32323232   2.42424242\n",
      "   2.52525253   2.62626263   2.72727273   2.82828283   2.92929293\n",
      "   3.03030303   3.13131313   3.23232323   3.33333333   3.43434343\n",
      "   3.53535354   3.63636364   3.73737374   3.83838384   3.93939394\n",
      "   4.04040404   4.14141414   4.24242424   4.34343434   4.44444444\n",
      "   4.54545455   4.64646465   4.74747475   4.84848485   4.94949495\n",
      "   5.05050505   5.15151515   5.25252525   5.35353535   5.45454545\n",
      "   5.55555556   5.65656566   5.75757576   5.85858586   5.95959596\n",
      "   6.06060606   6.16161616   6.26262626   6.36363636   6.46464646\n",
      "   6.56565657   6.66666667   6.76767677   6.86868687   6.96969697\n",
      "   7.07070707   7.17171717   7.27272727   7.37373737   7.47474747\n",
      "   7.57575758   7.67676768   7.77777778   7.87878788   7.97979798\n",
      "   8.08080808   8.18181818   8.28282828   8.38383838   8.48484848\n",
      "   8.58585859   8.68686869   8.78787879   8.88888889   8.98989899\n",
      "   9.09090909   9.19191919   9.29292929   9.39393939   9.49494949\n",
      "   9.5959596    9.6969697    9.7979798    9.8989899   10.        ]\n",
      "100\n"
     ]
    }
   ],
   "source": [
    "y = np.linspace(0,10,100)\n",
    "print(y)\n",
    "print(len(y))\n",
    "#(desde,hasta,número de elementos)\n",
    "#si le agregamos un ? nos dará una ayuda, o poner help(lo que se pregunta), ship y tab"
   ]
  },
  {
   "cell_type": "code",
   "execution_count": 11,
   "metadata": {},
   "outputs": [
    {
     "name": "stdout",
     "output_type": "stream",
     "text": [
      "[ 0.  0.  0.  0.  0.]\n"
     ]
    }
   ],
   "source": [
    "z = np.zeros(5)\n",
    "print(z)\n",
    "#arreglo sólo de ceros\n",
    "#se puede hacer con matrices tambien"
   ]
  },
  {
   "cell_type": "code",
   "execution_count": 13,
   "metadata": {},
   "outputs": [
    {
     "name": "stdout",
     "output_type": "stream",
     "text": [
      "[[ 1.  1.  1.  1.]\n",
      " [ 1.  1.  1.  1.]\n",
      " [ 1.  1.  1.  1.]]\n"
     ]
    }
   ],
   "source": [
    "a = np.ones([3,4])\n",
    "print(a)"
   ]
  },
  {
   "cell_type": "code",
   "execution_count": 21,
   "metadata": {},
   "outputs": [
    {
     "name": "stdout",
     "output_type": "stream",
     "text": [
      "[[ 0.14840292  0.90399903  0.81199024]\n",
      " [ 0.6320434   0.14614544  0.00638343]\n",
      " [ 0.34450408  0.37739894  0.7125347 ]\n",
      " [ 0.78116137  0.69153102  0.90531625]]\n"
     ]
    }
   ],
   "source": [
    "w = np.random.random((4,3))\n",
    "print(w)\n",
    "#ejecuta números random"
   ]
  },
  {
   "cell_type": "code",
   "execution_count": 22,
   "metadata": {},
   "outputs": [
    {
     "data": {
      "text/plain": [
       "6"
      ]
     },
     "execution_count": 22,
     "metadata": {},
     "output_type": "execute_result"
    }
   ],
   "source": [
    "np.random.randint(7)\n",
    "#imprime números al azar enteros, menores que 7"
   ]
  },
  {
   "cell_type": "code",
   "execution_count": 26,
   "metadata": {},
   "outputs": [
    {
     "name": "stdout",
     "output_type": "stream",
     "text": [
      "[ 9  3  1  4  7  7 10  7  2  2  6  9  5  3  2  2  7  7  4  1  5  3  7  4  2\n",
      "  2  8  2  6  3  7  5  6  2  4 10  3  5  7  2  8  4  3  1 10  5  2  8 10  8\n",
      "  9  8  4  4  6  3 10  2  8  6  4  6 10  3  9  3  4  2  9  3  9  3 10  7  4\n",
      "  8  7  1  4  6  4  7  1  6  2  1  6  3  4  7  9  2  6  9  9  1  3  1  5  7]\n"
     ]
    }
   ],
   "source": [
    "x = np.random.randint(1,11, size=100)\n",
    "print(x)\n",
    "#100 números random desde 1 hasta el 10"
   ]
  },
  {
   "cell_type": "code",
   "execution_count": 28,
   "metadata": {},
   "outputs": [
    {
     "data": {
      "text/plain": [
       "array([ 1, 13, 21, 29, 36, 42, 55, 63, 65, 69, 71, 87, 96])"
      ]
     },
     "execution_count": 28,
     "metadata": {},
     "output_type": "execute_result"
    }
   ],
   "source": [
    "np.where(x==3)[0]\n",
    "#donde x=3\n"
   ]
  },
  {
   "cell_type": "code",
   "execution_count": 29,
   "metadata": {},
   "outputs": [
    {
     "data": {
      "text/plain": [
       "array([False,  True, False, False, False, False, False, False, False,\n",
       "       False, False, False, False,  True, False, False, False, False,\n",
       "       False, False, False,  True, False, False, False, False, False,\n",
       "       False, False,  True, False, False, False, False, False, False,\n",
       "        True, False, False, False, False, False,  True, False, False,\n",
       "       False, False, False, False, False, False, False, False, False,\n",
       "       False,  True, False, False, False, False, False, False, False,\n",
       "        True, False,  True, False, False, False,  True, False,  True,\n",
       "       False, False, False, False, False, False, False, False, False,\n",
       "       False, False, False, False, False, False,  True, False, False,\n",
       "       False, False, False, False, False, False,  True, False, False, False], dtype=bool)"
      ]
     },
     "execution_count": 29,
     "metadata": {},
     "output_type": "execute_result"
    }
   ],
   "source": [
    "x==3"
   ]
  },
  {
   "cell_type": "code",
   "execution_count": 30,
   "metadata": {},
   "outputs": [
    {
     "data": {
      "text/plain": [
       "13"
      ]
     },
     "execution_count": 30,
     "metadata": {},
     "output_type": "execute_result"
    }
   ],
   "source": [
    "np.count_nonzero(x==3)\n",
    "#cuantas veces x=3"
   ]
  },
  {
   "cell_type": "code",
   "execution_count": 31,
   "metadata": {},
   "outputs": [
    {
     "data": {
      "text/plain": [
       "10"
      ]
     },
     "execution_count": 31,
     "metadata": {},
     "output_type": "execute_result"
    }
   ],
   "source": [
    "np.max(x)\n",
    "#número máximo"
   ]
  },
  {
   "cell_type": "code",
   "execution_count": 38,
   "metadata": {},
   "outputs": [],
   "source": [
    "data = np.genfromtxt?\n"
   ]
  },
  {
   "cell_type": "code",
   "execution_count": 41,
   "metadata": {},
   "outputs": [
    {
     "name": "stdout",
     "output_type": "stream",
     "text": [
      "[[ 0.1    0.738]\n",
      " [ 0.25   0.826]\n",
      " [ 0.41   0.981]\n",
      " [ 0.56   0.974]\n",
      " [ 0.71   0.915]\n",
      " [ 0.86   0.897]\n",
      " [ 1.02   0.739]\n",
      " [ 1.17   0.785]\n",
      " [ 1.32   0.635]\n",
      " [ 1.47   0.52 ]\n",
      " [ 1.63   0.49 ]\n",
      " [ 1.78   0.428]\n",
      " [ 1.93   0.497]\n",
      " [ 2.08   0.355]\n",
      " [ 2.24   0.359]\n",
      " [ 2.39   0.328]\n",
      " [ 2.54   0.44 ]\n",
      " [ 2.69   0.441]\n",
      " [ 2.85   0.433]\n",
      " [ 3.     0.419]]\n",
      "(20, 2)\n"
     ]
    }
   ],
   "source": [
    "data = np.genfromtxt('datos.txt')\n",
    "print(data)\n",
    "print(np.shape(data))"
   ]
  },
  {
   "cell_type": "code",
   "execution_count": 42,
   "metadata": {},
   "outputs": [
    {
     "name": "stdout",
     "output_type": "stream",
     "text": [
      "[ 0.1   0.25  0.41  0.56  0.71  0.86  1.02  1.17  1.32  1.47  1.63  1.78\n",
      "  1.93  2.08  2.24  2.39  2.54  2.69  2.85  3.  ]\n"
     ]
    }
   ],
   "source": [
    "c1 = data[:,0]\n",
    "print(c1)\n",
    "#imprime la primera columna"
   ]
  },
  {
   "cell_type": "code",
   "execution_count": 44,
   "metadata": {},
   "outputs": [
    {
     "name": "stdout",
     "output_type": "stream",
     "text": [
      "[ 0.738  0.826  0.981  0.974  0.915  0.897  0.739  0.785  0.635  0.52   0.49\n",
      "  0.428  0.497  0.355  0.359  0.328  0.44   0.441  0.433  0.419]\n"
     ]
    }
   ],
   "source": [
    "c2 = data[:,1]\n",
    "print(c2)\n",
    "#imprime la segunda columna"
   ]
  },
  {
   "cell_type": "code",
   "execution_count": 45,
   "metadata": {},
   "outputs": [
    {
     "name": "stdout",
     "output_type": "stream",
     "text": [
      "0.981\n"
     ]
    }
   ],
   "source": [
    "print(np.max(c2))"
   ]
  },
  {
   "cell_type": "code",
   "execution_count": 46,
   "metadata": {},
   "outputs": [
    {
     "name": "stdout",
     "output_type": "stream",
     "text": [
      "1.55\n"
     ]
    }
   ],
   "source": [
    "print(np.mean(c1))\n",
    "#est6e es el promedio"
   ]
  },
  {
   "cell_type": "code",
   "execution_count": 48,
   "metadata": {},
   "outputs": [],
   "source": [
    "d = np.genfromtxt('stockholm_td_adj.dat')\n",
    "#datos de la temperatura de estocolmo"
   ]
  },
  {
   "cell_type": "code",
   "execution_count": 50,
   "metadata": {},
   "outputs": [
    {
     "name": "stdout",
     "output_type": "stream",
     "text": [
      "[[  1.80000000e+03   1.00000000e+00   1.00000000e+00 ...,  -6.10000000e+00\n",
      "   -6.10000000e+00   1.00000000e+00]\n",
      " [  1.80000000e+03   1.00000000e+00   2.00000000e+00 ...,  -1.54000000e+01\n",
      "   -1.54000000e+01   1.00000000e+00]\n",
      " [  1.80000000e+03   1.00000000e+00   3.00000000e+00 ...,  -1.50000000e+01\n",
      "   -1.50000000e+01   1.00000000e+00]\n",
      " ..., \n",
      " [  2.01100000e+03   1.20000000e+01   2.90000000e+01 ...,   4.20000000e+00\n",
      "    4.20000000e+00   1.00000000e+00]\n",
      " [  2.01100000e+03   1.20000000e+01   3.00000000e+01 ...,  -1.00000000e-01\n",
      "   -1.00000000e-01   1.00000000e+00]\n",
      " [  2.01100000e+03   1.20000000e+01   3.10000000e+01 ...,  -3.30000000e+00\n",
      "   -3.30000000e+00   1.00000000e+00]]\n",
      "(77431, 7)\n"
     ]
    }
   ],
   "source": [
    "print(d)\n",
    "print(np.shape(d))"
   ]
  },
  {
   "cell_type": "code",
   "execution_count": null,
   "metadata": {},
   "outputs": [],
   "source": []
  }
 ],
 "metadata": {
  "kernelspec": {
   "display_name": "Python 3",
   "language": "python",
   "name": "python3"
  },
  "language_info": {
   "codemirror_mode": {
    "name": "ipython",
    "version": 3
   },
   "file_extension": ".py",
   "mimetype": "text/x-python",
   "name": "python",
   "nbconvert_exporter": "python",
   "pygments_lexer": "ipython3",
   "version": "3.6.9"
  }
 },
 "nbformat": 4,
 "nbformat_minor": 2
}
