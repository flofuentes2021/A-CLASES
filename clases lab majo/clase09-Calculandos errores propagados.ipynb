{
 "cells": [
  {
   "cell_type": "code",
   "execution_count": 13,
   "metadata": {},
   "outputs": [],
   "source": [
    "import numpy as np\n",
    "import matplotlib.pyplot as plt"
   ]
  },
  {
   "cell_type": "code",
   "execution_count": 2,
   "metadata": {},
   "outputs": [],
   "source": [
    "a = 5\n",
    "Da = 1\n",
    "b = 8\n",
    "Db = 2"
   ]
  },
  {
   "cell_type": "code",
   "execution_count": 6,
   "metadata": {},
   "outputs": [
    {
     "name": "stdout",
     "output_type": "stream",
     "text": [
      "13\n",
      "3\n"
     ]
    }
   ],
   "source": [
    "c1 = a+b\n",
    "print(c1)\n",
    "Dc1 = Da + Db\n",
    "print(Dc1)"
   ]
  },
  {
   "cell_type": "code",
   "execution_count": 8,
   "metadata": {},
   "outputs": [
    {
     "name": "stdout",
     "output_type": "stream",
     "text": [
      "40\n",
      "18\n"
     ]
    }
   ],
   "source": [
    "c2 = a*b\n",
    "print(c2)\n",
    "Dc2 = b*Da + a*Db\n",
    "print(Dc2)"
   ]
  },
  {
   "cell_type": "code",
   "execution_count": 9,
   "metadata": {},
   "outputs": [
    {
     "name": "stdout",
     "output_type": "stream",
     "text": [
      "0.625\n",
      "0.28125\n"
     ]
    }
   ],
   "source": [
    "c3 = a/b\n",
    "print(c3)\n",
    "Dc3 = Da/b + (a/b**2)*Db\n",
    "print(Dc3)"
   ]
  },
  {
   "cell_type": "code",
   "execution_count": 12,
   "metadata": {},
   "outputs": [
    {
     "name": "stdout",
     "output_type": "stream",
     "text": [
      "2.82842712475\n",
      "0.3535533905932738\n"
     ]
    }
   ],
   "source": [
    "c4 = np.sqrt(b)\n",
    "print(c4)\n",
    "Dc4 = (1/2)*b**(-1/2)*Db\n",
    "print(Dc4)"
   ]
  },
  {
   "cell_type": "code",
   "execution_count": 14,
   "metadata": {},
   "outputs": [
    {
     "name": "stdout",
     "output_type": "stream",
     "text": [
      "2.0 0.25\n"
     ]
    }
   ],
   "source": [
    "x = 4\n",
    "Dx = 1\n",
    "y = np.sqrt(x)\n",
    "Dy = Dx/(2*np.sqrt(x))\n",
    "print(y,Dy)"
   ]
  },
  {
   "cell_type": "code",
   "execution_count": 16,
   "metadata": {},
   "outputs": [],
   "source": [
    "xx = np.linspace(x-Dx,x+Dx,1000)\n",
    "yy = np.sqrt(xx)"
   ]
  },
  {
   "cell_type": "code",
   "execution_count": 17,
   "metadata": {},
   "outputs": [
    {
     "name": "stdout",
     "output_type": "stream",
     "text": [
      "0.252008584965\n"
     ]
    }
   ],
   "source": [
    "ymin = np.min(yy)\n",
    "ymax = np.max(yy)\n",
    "Dy = (ymax-ymin)/2\n",
    "print(Dy)"
   ]
  },
  {
   "cell_type": "markdown",
   "metadata": {},
   "source": [
    "# Caso bidimensional\n",
    "$z=f(x,y)$"
   ]
  },
  {
   "cell_type": "code",
   "execution_count": 18,
   "metadata": {},
   "outputs": [],
   "source": [
    "x = 5\n",
    "Dx = 1\n",
    "y = 8\n",
    "Dy =2\n",
    "xx = np.linspace(x-Dx,x+Dx,1000)\n",
    "yy = np.linspace(y-Dy,y+Dy,1000)"
   ]
  },
  {
   "cell_type": "code",
   "execution_count": 19,
   "metadata": {},
   "outputs": [],
   "source": [
    "def f(x,y):\n",
    "    return x*y"
   ]
  },
  {
   "cell_type": "code",
   "execution_count": 20,
   "metadata": {},
   "outputs": [],
   "source": [
    "zz = f(xx,yy)\n",
    "#multiplica cada valor con su respectivo, el primero con el primero\n",
    "#el segundo con el segundo, etc"
   ]
  },
  {
   "cell_type": "code",
   "execution_count": 21,
   "metadata": {},
   "outputs": [
    {
     "data": {
      "text/plain": [
       "numpy.ndarray"
      ]
     },
     "execution_count": 21,
     "metadata": {},
     "output_type": "execute_result"
    }
   ],
   "source": [
    "type(zz)"
   ]
  },
  {
   "cell_type": "code",
   "execution_count": 22,
   "metadata": {},
   "outputs": [
    {
     "data": {
      "text/plain": [
       "(1000,)"
      ]
     },
     "execution_count": 22,
     "metadata": {},
     "output_type": "execute_result"
    }
   ],
   "source": [
    "np.shape(zz)"
   ]
  },
  {
   "cell_type": "code",
   "execution_count": 23,
   "metadata": {},
   "outputs": [],
   "source": [
    "X, Y = np.meshgrid(xx,yy)"
   ]
  },
  {
   "cell_type": "code",
   "execution_count": 24,
   "metadata": {},
   "outputs": [
    {
     "name": "stdout",
     "output_type": "stream",
     "text": [
      "[[ 4.        4.002002  4.004004 ...,  5.995996  5.997998  6.      ]\n",
      " [ 4.        4.002002  4.004004 ...,  5.995996  5.997998  6.      ]\n",
      " [ 4.        4.002002  4.004004 ...,  5.995996  5.997998  6.      ]\n",
      " ..., \n",
      " [ 4.        4.002002  4.004004 ...,  5.995996  5.997998  6.      ]\n",
      " [ 4.        4.002002  4.004004 ...,  5.995996  5.997998  6.      ]\n",
      " [ 4.        4.002002  4.004004 ...,  5.995996  5.997998  6.      ]]\n",
      "[[  6.           6.           6.         ...,   6.           6.           6.        ]\n",
      " [  6.004004     6.004004     6.004004   ...,   6.004004     6.004004\n",
      "    6.004004  ]\n",
      " [  6.00800801   6.00800801   6.00800801 ...,   6.00800801   6.00800801\n",
      "    6.00800801]\n",
      " ..., \n",
      " [  9.99199199   9.99199199   9.99199199 ...,   9.99199199   9.99199199\n",
      "    9.99199199]\n",
      " [  9.995996     9.995996     9.995996   ...,   9.995996     9.995996\n",
      "    9.995996  ]\n",
      " [ 10.          10.          10.         ...,  10.          10.          10.        ]]\n"
     ]
    }
   ],
   "source": [
    "print(X)\n",
    "print(Y)"
   ]
  },
  {
   "cell_type": "code",
   "execution_count": 25,
   "metadata": {},
   "outputs": [],
   "source": [
    "Z = f(X,Y)"
   ]
  },
  {
   "cell_type": "code",
   "execution_count": 26,
   "metadata": {},
   "outputs": [
    {
     "name": "stdout",
     "output_type": "stream",
     "text": [
      "[[ 24.          24.01201201  24.02402402 ...,  35.97597598  35.98798799\n",
      "   36.        ]\n",
      " [ 24.01601602  24.02803604  24.04005607 ...,  35.99998397  36.012004\n",
      "   36.02402402]\n",
      " [ 24.03203203  24.04406008  24.05608812 ...,  36.02399196  36.03602\n",
      "   36.04804805]\n",
      " ..., \n",
      " [ 39.96796797  39.98797196  40.00797594 ...,  59.91194398  59.93194796\n",
      "   59.95195195]\n",
      " [ 39.98398398  40.00399599  40.02400799 ...,  59.93595197  59.95596397\n",
      "   59.97597598]\n",
      " [ 40.          40.02002002  40.04004004 ...,  59.95995996  59.97997998\n",
      "   60.        ]]\n"
     ]
    }
   ],
   "source": [
    "print(Z)"
   ]
  },
  {
   "cell_type": "code",
   "execution_count": 27,
   "metadata": {},
   "outputs": [
    {
     "name": "stdout",
     "output_type": "stream",
     "text": [
      "18.0\n"
     ]
    }
   ],
   "source": [
    "zmax = np.max(Z)\n",
    "zmin = np.min(Z)\n",
    "Dz = (zmax - zmin)/2\n",
    "print(Dz)"
   ]
  },
  {
   "cell_type": "markdown",
   "metadata": {},
   "source": [
    "# Ejemplo péndulo\n",
    "$g = 4\\pi^2 L/T$\n"
   ]
  },
  {
   "cell_type": "code",
   "execution_count": 28,
   "metadata": {},
   "outputs": [],
   "source": [
    "l = 0.381\n",
    "Dl = 0.002\n",
    "t = 1.24\n",
    "Dt =0.02\n",
    "ll = np.linspace(l-Dl,l+Dl,1000)\n",
    "tt = np.linspace(t-Dt,t+Dt,1000)"
   ]
  },
  {
   "cell_type": "code",
   "execution_count": 29,
   "metadata": {},
   "outputs": [],
   "source": [
    "def f(l,t):\n",
    "    return 4*np.pi**2*l/t**2"
   ]
  },
  {
   "cell_type": "code",
   "execution_count": 30,
   "metadata": {},
   "outputs": [
    {
     "name": "stdout",
     "output_type": "stream",
     "text": [
      "0.36711336844\n"
     ]
    }
   ],
   "source": [
    "L, T = np.meshgrid(ll,tt)\n",
    "G = f(L,T)\n",
    "gmax = np.max(G)\n",
    "gmin = np.min(G)\n",
    "Dg = (gmax-gmin)/2\n",
    "print(Dg)"
   ]
  },
  {
   "cell_type": "code",
   "execution_count": null,
   "metadata": {},
   "outputs": [],
   "source": []
  }
 ],
 "metadata": {
  "kernelspec": {
   "display_name": "Python 3",
   "language": "python",
   "name": "python3"
  },
  "language_info": {
   "codemirror_mode": {
    "name": "ipython",
    "version": 3
   },
   "file_extension": ".py",
   "mimetype": "text/x-python",
   "name": "python",
   "nbconvert_exporter": "python",
   "pygments_lexer": "ipython3",
   "version": "3.6.9"
  }
 },
 "nbformat": 4,
 "nbformat_minor": 2
}
