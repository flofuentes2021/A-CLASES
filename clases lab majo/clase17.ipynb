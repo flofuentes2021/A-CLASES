{
 "cells": [
  {
   "cell_type": "code",
   "execution_count": 1,
   "metadata": {},
   "outputs": [],
   "source": [
    "import numpy as np\n",
    "import matplotlib.pyplot as plt"
   ]
  },
  {
   "cell_type": "code",
   "execution_count": 2,
   "metadata": {},
   "outputs": [],
   "source": [
    "datos = np.genfromtxt('ej-ajuste-04.txt')\n",
    "x = datos[:,0]\n",
    "y = datos[:,1]\n",
    "Dy = datos[:,2]"
   ]
  },
  {
   "cell_type": "code",
   "execution_count": 3,
   "metadata": {},
   "outputs": [
    {
     "data": {
      "text/plain": [
       "(0, 7)"
      ]
     },
     "execution_count": 3,
     "metadata": {},
     "output_type": "execute_result"
    },
    {
     "data": {
      "image/png": "[encoded data removed]",
      "text/plain": [
       "<matplotlib.figure.Figure at 0x7f76f8d38b70>"
      ]
     },
     "metadata": {},
     "output_type": "display_data"
    }
   ],
   "source": [
    "plt.errorbar(x,y,Dy,fmt='o')\n",
    "plt.grid(True)\n",
    "plt.xlabel('$x$')\n",
    "plt.ylabel('$y$')\n",
    "plt.xlim(0,7)\n",
    "plt.ylim(0,7)"
   ]
  },
  {
   "cell_type": "code",
   "execution_count": 4,
   "metadata": {},
   "outputs": [
    {
     "name": "stdout",
     "output_type": "stream",
     "text": [
      "b0 = 2.34204247555\n",
      "b1 =  0.457131226109\n"
     ]
    }
   ],
   "source": [
    "b1,b0 = np.polyfit(x,y,1,w=1/Dy)\n",
    "print('b0 =', b0)\n",
    "print('b1 = ', b1)"
   ]
  },
  {
   "cell_type": "code",
   "execution_count": 5,
   "metadata": {},
   "outputs": [
    {
     "data": {
      "text/plain": [
       "<matplotlib.legend.Legend at 0x7f76f8c1bb00>"
      ]
     },
     "execution_count": 5,
     "metadata": {},
     "output_type": "execute_result"
    },
    {
     "data": {
      "image/png": "[encoded data removed]",
      "text/plain": [
       "<matplotlib.figure.Figure at 0x7f76f8d38748>"
      ]
     },
     "metadata": {},
     "output_type": "display_data"
    }
   ],
   "source": [
    "xx = np.linspace(1,6,100)\n",
    "plt.plot(xx,b0+b1*xx, color= 'red',label='ponderado')\n",
    "plt.errorbar(x,y,Dy,fmt='o')\n",
    "plt.grid(True)\n",
    "plt.xlabel('$x$')\n",
    "plt.ylabel('$y$')\n",
    "plt.xlim(0,7)\n",
    "plt.ylim(0,7)\n",
    "plt.legend()"
   ]
  },
  {
   "cell_type": "code",
   "execution_count": 6,
   "metadata": {
    "scrolled": true
   },
   "outputs": [
    {
     "name": "stdout",
     "output_type": "stream",
     "text": [
      "s2b0 = 0.0985321800187\n",
      "sb0 = 0.313898359376\n",
      "s2b1 = 0.00919841553972\n",
      "sb1 = 0.0959083705404\n"
     ]
    }
   ],
   "source": [
    "D = (np.sum(1/Dy**2))*(np.sum(x**2/Dy**2))-(np.sum(x/Dy**2))**2\n",
    "s2b0 = ((np.sum(x**2/Dy**2)))/D\n",
    "s2b1 = (np.sum(1/Dy**2))/D\n",
    "print('s2b0 =', s2b0)\n",
    "print('sb0 =', np.sqrt(s2b0)) #Error para el coeficiente de posicion, error de la desviación estándar asociada a b0\n",
    "print('s2b1 =', s2b1)\n",
    "print('sb1 =', np.sqrt(s2b1)) #Error para el coeficiente de posicion, error de la desviación estándar asociada a b1"
   ]
  },
  {
   "cell_type": "code",
   "execution_count": 7,
   "metadata": {},
   "outputs": [
    {
     "data": {
      "text/plain": [
       "(array([ 0.45713123,  2.34204248]), array([[ 0.0081217 , -0.02289676],\n",
       "        [-0.02289676,  0.0869985 ]]))"
      ]
     },
     "execution_count": 7,
     "metadata": {},
     "output_type": "execute_result"
    }
   ],
   "source": [
    "np.polyfit(x,y,1,w=1/Dy, cov='unscaled') #La diagonal de la segunda matriz son las soluciones, matriz de covarianza"
   ]
  },
  {
   "cell_type": "code",
   "execution_count": 8,
   "metadata": {},
   "outputs": [],
   "source": [
    "from scipy.optimize import curve_fit"
   ]
  },
  {
   "cell_type": "code",
   "execution_count": 9,
   "metadata": {},
   "outputs": [],
   "source": [
    "def f(x,a,b):\n",
    "    return a+b*x"
   ]
  },
  {
   "cell_type": "code",
   "execution_count": 10,
   "metadata": {},
   "outputs": [
    {
     "data": {
      "text/plain": [
       "(array([ 2.34204247,  0.45713123]), array([[ 0.04349925, -0.01144838],\n",
       "        [-0.01144838,  0.00406085]]))"
      ]
     },
     "execution_count": 10,
     "metadata": {},
     "output_type": "execute_result"
    }
   ],
   "source": [
    "curve_fit(f,x,y,sigma=Dy)\n",
    "#b0,b1"
   ]
  },
  {
   "cell_type": "code",
   "execution_count": 13,
   "metadata": {},
   "outputs": [
    {
     "data": {
      "text/plain": [
       "array([[ 0.09853218, -0.02593226],\n",
       "       [-0.02593226,  0.00919842]])"
      ]
     },
     "execution_count": 13,
     "metadata": {},
     "output_type": "execute_result"
    }
   ],
   "source": [
    "curve_fit(f,x,y,sigma=Dy, absolute_sigma=True)[1] #ES más preciso\n"
   ]
  },
  {
   "cell_type": "code",
   "execution_count": null,
   "metadata": {},
   "outputs": [],
   "source": []
  }
 ],
 "metadata": {
  "kernelspec": {
   "display_name": "Python 3",
   "language": "python",
   "name": "python3"
  },
  "language_info": {
   "codemirror_mode": {
    "name": "ipython",
    "version": 3
   },
   "file_extension": ".py",
   "mimetype": "text/x-python",
   "name": "python",
   "nbconvert_exporter": "python",
   "pygments_lexer": "ipython3",
   "version": "3.6.9"
  }
 },
 "nbformat": 4,
 "nbformat_minor": 2
}
