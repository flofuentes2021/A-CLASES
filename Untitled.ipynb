{
 "cells": [
  {
   "cell_type": "markdown",
   "metadata": {},
   "source": [
    "## LAB FC 23/09"
   ]
  },
  {
   "cell_type": "markdown",
   "metadata": {},
   "source": [
    "1) c)"
   ]
  },
  {
   "cell_type": "code",
   "execution_count": 19,
   "metadata": {},
   "outputs": [
    {
     "data": {
      "text/plain": [
       "[<matplotlib.lines.Line2D at 0x7f3983267d30>]"
      ]
     },
     "execution_count": 19,
     "metadata": {},
     "output_type": "execute_result"
    },
    {
     "data": {
      "image/png": "[encoded data removed]",
      "text/plain": [
       "<Figure size 432x288 with 1 Axes>"
      ]
     },
     "metadata": {
      "needs_background": "light"
     },
     "output_type": "display_data"
    }
   ],
   "source": [
    "import numpy as np\n",
    "import matplotlib.pyplot as plt\n",
    "\n",
    "\n",
    "h=0.1\n",
    "nmax=10000\n",
    "#n=np.arange(0, 10.0, h)\n",
    "pi=np.zeros(nmax)\n",
    "d=np.zeros(nmax)\n",
    "\n",
    "mu=1\n",
    "pi[0] =1\n",
    "d[0] =2\n",
    "\n",
    "for n in range(nmax-1):\n",
    "    pi[n+1]= pi[n] + h*pi[n]*(1-d[n]) \n",
    "    d[n+1]= d[n] + h*u*d[n]* (pi[n+1]-1)\n",
    "\n",
    "plt.plot(pi,d)\n",
    "  "
   ]
  },
  {
   "cell_type": "code",
   "execution_count": null,
   "metadata": {
    "collapsed": true
   },
   "outputs": [],
   "source": []
  }
 ],
 "metadata": {
  "kernelspec": {
   "display_name": "Python 3",
   "language": "python",
   "name": "python3"
  },
  "language_info": {
   "codemirror_mode": {
    "name": "ipython",
    "version": 3
   },
   "file_extension": ".py",
   "mimetype": "text/x-python",
   "name": "python",
   "nbconvert_exporter": "python",
   "pygments_lexer": "ipython3",
   "version": "3.8.5"
  }
 },
 "nbformat": 4,
 "nbformat_minor": 4
}
