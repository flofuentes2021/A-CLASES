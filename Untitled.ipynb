{
 "cells": [
  {
   "cell_type": "markdown",
   "metadata": {},
   "source": [
    "# Necesito un jalazo o un balazo"
   ]
  },
  {
   "cell_type": "code",
   "execution_count": 21,
   "metadata": {},
   "outputs": [],
   "source": [
    "\n",
    "%matplotlib inline"
   ]
  },
  {
   "cell_type": "code",
   "execution_count": 22,
   "metadata": {},
   "outputs": [],
   "source": [
    "import numpy as np\n",
    "from numpy.linalg import *\n",
    "import matplotlib.pyplot as plt"
   ]
  },
  {
   "cell_type": "code",
   "execution_count": 60,
   "metadata": {},
   "outputs": [],
   "source": [
    "datos =np.genfromtxt('carro-inclinado.txt')\n",
    "x = datos[:,0]\n",
    "t = datos[:,1]"
   ]
  },
  {
   "cell_type": "code",
   "execution_count": 61,
   "metadata": {},
   "outputs": [
    {
     "data": {
      "image/png": "[encoded data removed]",
      "text/plain": [
       "<Figure size 432x288 with 1 Axes>"
      ]
     },
     "metadata": {
      "needs_background": "light"
     },
     "output_type": "display_data"
    }
   ],
   "source": [
    "# gráfico rápido para ver cómo es la tendencia\n",
    "plt.plot(x,t,'o', color =\"pink\")\n",
    "plt.grid()"
   ]
  },
  {
   "cell_type": "code",
   "execution_count": 62,
   "metadata": {},
   "outputs": [],
   "source": [
    "m=2"
   ]
  },
  {
   "cell_type": "code",
   "execution_count": 63,
   "metadata": {},
   "outputs": [],
   "source": [
    "# crea las matrices que usaremos, llenas de ceros\n",
    "M=np.zeros((m+1,m+1))\n",
    "b=np.zeros(m+1)"
   ]
  },
  {
   "cell_type": "code",
   "execution_count": 64,
   "metadata": {},
   "outputs": [],
   "source": [
    "# Matriz de coeficientes\n",
    "for i in range(m+1):\n",
    "    for j in range(m+1):\n",
    "        M[i,j] = sum(x**(i+j))"
   ]
  },
  {
   "cell_type": "code",
   "execution_count": 65,
   "metadata": {},
   "outputs": [],
   "source": [
    "# vector de coeficientes\n",
    "for i in range(m+1):\n",
    "    b[i] = sum(t*x**i)"
   ]
  },
  {
   "cell_type": "code",
   "execution_count": 30,
   "metadata": {},
   "outputs": [],
   "source": [
    "# calcula solución de constantes a0, a1, ...\n",
    "a = solve(M,b)"
   ]
  },
  {
   "cell_type": "code",
   "execution_count": 72,
   "metadata": {},
   "outputs": [
    {
     "name": "stdout",
     "output_type": "stream",
     "text": [
      "[-1.33314223e-04  3.27129850e-02  2.02256965e-01]\n"
     ]
    },
    {
     "data": {
      "text/plain": [
       "<matplotlib.legend.Legend at 0x7f57367eaeb0>"
      ]
     },
     "execution_count": 72,
     "metadata": {},
     "output_type": "execute_result"
    },
    {
     "data": {
      "image/png": "[encoded data removed]",
      "text/plain": [
       "<Figure size 432x288 with 1 Axes>"
      ]
     },
     "metadata": {
      "needs_background": "light"
     },
     "output_type": "display_data"
    }
   ],
   "source": [
    "#xx = np.linspace(0.9*min(x),1.1*max(x),100)\n",
    "#tt = a[0]+a[1]*xx+a[2]*xx**2\n",
    "p = np.polyfit(t,x,2)\n",
    "print(p)\n",
    "chi2= np.sum(x- np.polyval(p,t))**2\n",
    "tt= np.linspace(np.min(t),np.max(t),100)\n",
    "plt.scatter(t,x ,color = \"pink\" , label =\"Datos\" )\n",
    "plt.plot(tt, np.polyval(p,tt))\n",
    "#plt.plot(xx,tt ,color= \"purple\" , label = \"Ajuste ponimolial\")\n",
    "#xlim(0.9*min(x),1.1*max(x))\n",
    "plt.title(\"Ajuste minimos cuadrados de carro inclinado\")\n",
    "plt.ylabel(\"Posición [cm]\")\n",
    "plt.xlabel(\"Tiempo [s]\")\n",
    "plt.grid()\n",
    "plt.legend()\n",
    "#plt.savefig(\"grafik.pdf\")"
   ]
  },
  {
   "cell_type": "code",
   "execution_count": 50,
   "metadata": {},
   "outputs": [
    {
     "data": {
      "text/plain": [
       "array([-1.33314223e-04,  3.27129850e-02,  2.02256965e-01])"
      ]
     },
     "execution_count": 50,
     "metadata": {},
     "output_type": "execute_result"
    }
   ],
   "source": [
    "np.polyfit(t,x,2)"
   ]
  },
  {
   "cell_type": "code",
   "execution_count": 52,
   "metadata": {},
   "outputs": [
    {
     "data": {
      "text/plain": [
       "array([ 5, 24])"
      ]
     },
     "execution_count": 52,
     "metadata": {},
     "output_type": "execute_result"
    }
   ],
   "source": [
    "np.polyval([9,-8,4],[1,2])\n"
   ]
  },
  {
   "cell_type": "code",
   "execution_count": 78,
   "metadata": {},
   "outputs": [],
   "source": [
    "def g(m=0):\n",
    "    p = np.polyfit(t,x,2)\n",
    "    print(p)\n",
    "    chi2= np.sum(x- np.polyval(p,t))**2\n",
    "    tt= np.linspace(np.min(t),np.max(t),100)\n",
    "    plt.scatter(t,x ,color = \"pink\" , label =\"Datos\" )\n",
    "    plt.plot(tt, np.polyval(p,tt))\n",
    "    "
   ]
  },
  {
   "cell_type": "code",
   "execution_count": 79,
   "metadata": {},
   "outputs": [],
   "source": [
    "from ipywidgets import interact"
   ]
  },
  {
   "cell_type": "code",
   "execution_count": 80,
   "metadata": {},
   "outputs": [
    {
     "data": {
      "application/vnd.jupyter.widget-view+json": {
       "model_id": "b5fcef531d6746d7a65f83234f174cb5",
       "version_major": 2,
       "version_minor": 0
      },
      "text/plain": [
       "interactive(children=(IntSlider(value=0, description='m', max=20), Output()), _dom_classes=('widget-interact',…"
      ]
     },
     "metadata": {},
     "output_type": "display_data"
    },
    {
     "data": {
      "text/plain": [
       "<function __main__.g(m=0)>"
      ]
     },
     "execution_count": 80,
     "metadata": {},
     "output_type": "execute_result"
    }
   ],
   "source": [
    "interact(g , m=(0,20))"
   ]
  },
  {
   "cell_type": "code",
   "execution_count": null,
   "metadata": {},
   "outputs": [],
   "source": []
  }
 ],
 "metadata": {
  "kernelspec": {
   "display_name": "Python 3",
   "language": "python",
   "name": "python3"
  },
  "language_info": {
   "codemirror_mode": {
    "name": "ipython",
    "version": 3
   },
   "file_extension": ".py",
   "mimetype": "text/x-python",
   "name": "python",
   "nbconvert_exporter": "python",
   "pygments_lexer": "ipython3",
   "version": "3.8.5"
  }
 },
 "nbformat": 4,
 "nbformat_minor": 4
}
