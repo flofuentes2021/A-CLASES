{
 "cells": [
  {
   "cell_type": "markdown",
   "id": "94bc4c2d",
   "metadata": {},
   "source": [
    "## (Lab) Guia 4 - CERO"
   ]
  },
  {
   "cell_type": "markdown",
   "id": "21569c64",
   "metadata": {},
   "source": [
    "a)DERIVADA NÚMERICA"
   ]
  },
  {
   "cell_type": "code",
   "execution_count": 47,
   "id": "cfc8d9c0",
   "metadata": {},
   "outputs": [],
   "source": [
    "import numpy as np\n",
    "import matplotlib.pyplot as plt"
   ]
  },
  {
   "cell_type": "code",
   "execution_count": 48,
   "id": "152248dc",
   "metadata": {},
   "outputs": [],
   "source": [
    "def u(x) :\n",
    "    return np.cos(x)+0.75*np.sin(x)**2\n",
    "    \n",
    "def du(x,h=1e-5) :\n",
    "    return ((u(x+h)- u(x-h))/(2*h))"
   ]
  },
  {
   "cell_type": "code",
   "execution_count": 49,
   "id": "ca6da526",
   "metadata": {},
   "outputs": [],
   "source": [
    "x=np.linspace(0,np.pi/2,10)"
   ]
  },
  {
   "cell_type": "code",
   "execution_count": 50,
   "id": "b414d533",
   "metadata": {},
   "outputs": [
    {
     "data": {
      "text/plain": [
       "array([1.        , 1.00742302, 1.02742595, 1.0535254 , 1.07592638,\n",
       "       1.08290568, 1.0625    , 1.00428681, 0.90103291, 0.75      ])"
      ]
     },
     "execution_count": 50,
     "metadata": {},
     "output_type": "execute_result"
    }
   ],
   "source": [
    "u(x)"
   ]
  },
  {
   "cell_type": "code",
   "execution_count": 51,
   "id": "8755522a",
   "metadata": {
    "scrolled": true
   },
   "outputs": [
    {
     "data": {
      "text/plain": [
       "<matplotlib.collections.LineCollection at 0x7f55937b2320>"
      ]
     },
     "execution_count": 51,
     "metadata": {},
     "output_type": "execute_result"
    },
    {
     "data": {
      "image/png": "[encoded data removed]",
      "text/plain": [
       "<Figure size 432x288 with 1 Axes>"
      ]
     },
     "metadata": {
      "needs_background": "light"
     },
     "output_type": "display_data"
    }
   ],
   "source": [
    "plt.plot(x,du(x),color=\"purple\")\n",
    "plt.hlines(0,0,2)"
   ]
  },
  {
   "cell_type": "markdown",
   "id": "5f007c58",
   "metadata": {},
   "source": [
    "b)METODO DE LA BISECCIÓN"
   ]
  },
  {
   "cell_type": "code",
   "execution_count": 74,
   "id": "18e7d307",
   "metadata": {},
   "outputs": [
    {
     "name": "stdout",
     "output_type": "stream",
     "text": [
      "0.875\n",
      "0.8125\n",
      "0.84375\n",
      "0.828125\n",
      "0.8359375\n",
      "0.83984375\n",
      "0.841796875\n",
      "0.8408203125\n",
      "0.84130859375\n",
      "0.841064453125\n"
     ]
    },
    {
     "data": {
      "image/png": "[encoded data removed]",
      "text/plain": [
       "<Figure size 432x288 with 1 Axes>"
      ]
     },
     "metadata": {
      "needs_background": "light"
     },
     "output_type": "display_data"
    }
   ],
   "source": [
    "a= 0.75\n",
    "b= 1.00\n",
    "for i in range(10):\n",
    "        c=0.5*(a+b)\n",
    "    \n",
    "        condicion = du(a)*du(c)\n",
    "    \n",
    "        if condicion < 0:\n",
    "            b=c\n",
    "        else:\n",
    "            a=c\n",
    "        print(c)\n",
    "    \n",
    "plt.plot(x,du(x),color=\"purple\")\n",
    "plt.scatter(c,du(c))\n",
    "plt.hlines(0,0,2)\n",
    "plt.show()"
   ]
  },
  {
   "cell_type": "code",
   "execution_count": null,
   "id": "c5a074ff",
   "metadata": {},
   "outputs": [],
   "source": []
  }
 ],
 "metadata": {
  "kernelspec": {
   "display_name": "Python 3 (ipykernel)",
   "language": "python",
   "name": "python3"
  },
  "language_info": {
   "codemirror_mode": {
    "name": "ipython",
    "version": 3
   },
   "file_extension": ".py",
   "mimetype": "text/x-python",
   "name": "python",
   "nbconvert_exporter": "python",
   "pygments_lexer": "ipython3",
   "version": "3.10.4"
  }
 },
 "nbformat": 4,
 "nbformat_minor": 5
}
