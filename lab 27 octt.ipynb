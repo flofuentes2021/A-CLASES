{
 "cells": [
  {
   "cell_type": "markdown",
   "id": "5d4a2079",
   "metadata": {},
   "source": [
    "# Metodo de minimos cuadrados no-polinomico (con una función general)"
   ]
  },
  {
   "cell_type": "code",
   "execution_count": 3,
   "id": "62c8973b",
   "metadata": {},
   "outputs": [],
   "source": [
    "import numpy as np\n",
    "import matplotlib.pyplot as plt\n",
    "%matplotlib inline"
   ]
  },
  {
   "cell_type": "code",
   "execution_count": 4,
   "id": "e549af50",
   "metadata": {},
   "outputs": [],
   "source": [
    "datos = np.genfromtxt('ej-ajuste-03.txt')\n",
    "x = datos[:,0]\n",
    "y = datos[:,1]"
   ]
  },
  {
   "cell_type": "code",
   "execution_count": 5,
   "id": "e74f778d",
   "metadata": {},
   "outputs": [
    {
     "data": {
      "text/plain": [
       "Text(0, 0.5, '$y$')"
      ]
     },
     "execution_count": 5,
     "metadata": {},
     "output_type": "execute_result"
    },
    {
     "data": {
      "image/png": "[encoded data removed]",
      "text/plain": [
       "<Figure size 432x288 with 1 Axes>"
      ]
     },
     "metadata": {
      "needs_background": "light"
     },
     "output_type": "display_data"
    }
   ],
   "source": [
    "plt.scatter(x,y)\n",
    "plt.grid(True)\n",
    "plt.xlabel('$x$')\n",
    "plt.ylabel('$y$')"
   ]
  },
  {
   "cell_type": "code",
   "execution_count": 6,
   "id": "6b81a4d2",
   "metadata": {},
   "outputs": [],
   "source": [
    "def f(x,A,B):\n",
    "    return A* np.exp(-B*x)"
   ]
  },
  {
   "cell_type": "code",
   "execution_count": 10,
   "id": "fc87187e",
   "metadata": {},
   "outputs": [],
   "source": [
    "xx = np.linspace(0,3.5,100)\n",
    "def p(A=1,B=1):\n",
    "    plt.scatter(x,y , color=\"m\")\n",
    "    plt.plot(xx,f(xx,A, B), color='purple')\n",
    "    plt.xlim(0,3.5)\n",
    "    #plt.ylim(0,1.2)\n",
    "    plt.grid(True)\n",
    "    chi2 = np.sum((y-f(x,A,B))**2)\n",
    "    print(chi2)"
   ]
  },
  {
   "cell_type": "code",
   "execution_count": 11,
   "id": "26e9edcc",
   "metadata": {},
   "outputs": [
    {
     "data": {
      "application/vnd.jupyter.widget-view+json": {
       "model_id": "b616665ab1544adaa0522ac9da3f5efb",
       "version_major": 2,
       "version_minor": 0
      },
      "text/plain": [
       "interactive(children=(FloatSlider(value=1.0, description='A', max=5.0), FloatSlider(value=1.0, description='B'…"
      ]
     },
     "metadata": {},
     "output_type": "display_data"
    },
    {
     "data": {
      "text/plain": [
       "<function __main__.p(A=1, B=1)>"
      ]
     },
     "execution_count": 11,
     "metadata": {},
     "output_type": "execute_result"
    }
   ],
   "source": [
    "from ipywidgets import interact\n",
    "interact(p,A=(0,5,0.1),B=(0,5,0.1))"
   ]
  },
  {
   "cell_type": "code",
   "execution_count": 12,
   "id": "6c91b82c",
   "metadata": {},
   "outputs": [],
   "source": [
    "from scipy.optimize import curve_fit"
   ]
  },
  {
   "cell_type": "code",
   "execution_count": 15,
   "id": "3420b2c2",
   "metadata": {},
   "outputs": [],
   "source": [
    "A_opt, B_opt = curve_fit(f,x,y)[0]"
   ]
  },
  {
   "cell_type": "code",
   "execution_count": 16,
   "id": "2d96bb21",
   "metadata": {},
   "outputs": [
    {
     "name": "stdout",
     "output_type": "stream",
     "text": [
      "1.0090419169797906\n",
      "1.0090419169797906\n"
     ]
    }
   ],
   "source": [
    "print(A_opt)\n",
    "print(A_opt)"
   ]
  },
  {
   "cell_type": "code",
   "execution_count": 17,
   "id": "c0e90c30",
   "metadata": {},
   "outputs": [
    {
     "name": "stdout",
     "output_type": "stream",
     "text": [
      "0.22787727248208206\n"
     ]
    },
    {
     "data": {
      "image/png": "[encoded data removed]",
      "text/plain": [
       "<Figure size 432x288 with 1 Axes>"
      ]
     },
     "metadata": {
      "needs_background": "light"
     },
     "output_type": "display_data"
    }
   ],
   "source": [
    "p(A_opt,B_opt)"
   ]
  },
  {
   "cell_type": "code",
   "execution_count": 18,
   "id": "1de749cd",
   "metadata": {},
   "outputs": [],
   "source": [
    "from scipy.optimize import leastsq"
   ]
  },
  {
   "cell_type": "code",
   "execution_count": 19,
   "id": "4895fa93",
   "metadata": {},
   "outputs": [],
   "source": [
    "def res(p,x,y): #resuidos\n",
    "    return y-(p[0] + np.exp(-p[1]*x))"
   ]
  },
  {
   "cell_type": "code",
   "execution_count": 20,
   "id": "1ce31659",
   "metadata": {},
   "outputs": [],
   "source": [
    "p_ini = [1.1,0.4]"
   ]
  },
  {
   "cell_type": "code",
   "execution_count": 21,
   "id": "968560e5",
   "metadata": {},
   "outputs": [
    {
     "data": {
      "text/plain": [
       "array([0.00462861, 0.35496626, 2.        ])"
      ]
     },
     "execution_count": 21,
     "metadata": {},
     "output_type": "execute_result"
    }
   ],
   "source": [
    "leastsq(res,p_ini,args=(x,y))[0]"
   ]
  },
  {
   "cell_type": "code",
   "execution_count": 22,
   "id": "a20e74c8",
   "metadata": {},
   "outputs": [
    {
     "data": {
      "text/plain": [
       "array([1.00904192, 0.35523151])"
      ]
     },
     "execution_count": 22,
     "metadata": {},
     "output_type": "execute_result"
    }
   ],
   "source": [
    "curve_fit(f,x,y)[0]"
   ]
  },
  {
   "cell_type": "code",
   "execution_count": 32,
   "id": "8efd1b40",
   "metadata": {},
   "outputs": [],
   "source": [
    "w=np.log(y)\n",
    "B_minus, lnA= np.polyfit(x,w,1)\n"
   ]
  },
  {
   "cell_type": "code",
   "execution_count": 33,
   "id": "0322bb19",
   "metadata": {},
   "outputs": [
    {
     "data": {
      "text/plain": [
       "-0.35600974150600323"
      ]
     },
     "execution_count": 33,
     "metadata": {},
     "output_type": "execute_result"
    }
   ],
   "source": [
    "B_minus"
   ]
  },
  {
   "cell_type": "code",
   "execution_count": 34,
   "id": "fab03474",
   "metadata": {},
   "outputs": [
    {
     "data": {
      "text/plain": [
       "0.9931801015010482"
      ]
     },
     "execution_count": 34,
     "metadata": {},
     "output_type": "execute_result"
    }
   ],
   "source": [
    "A=np.exp(lnA)\n",
    "A"
   ]
  },
  {
   "cell_type": "code",
   "execution_count": null,
   "id": "f4de67f0",
   "metadata": {},
   "outputs": [],
   "source": []
  }
 ],
 "metadata": {
  "kernelspec": {
   "display_name": "Python 3 (ipykernel)",
   "language": "python",
   "name": "python3"
  },
  "language_info": {
   "codemirror_mode": {
    "name": "ipython",
    "version": 3
   },
   "file_extension": ".py",
   "mimetype": "text/x-python",
   "name": "python",
   "nbconvert_exporter": "python",
   "pygments_lexer": "ipython3",
   "version": "3.10.7"
  }
 },
 "nbformat": 4,
 "nbformat_minor": 5
}
